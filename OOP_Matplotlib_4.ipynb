{
  "nbformat": 4,
  "nbformat_minor": 0,
  "metadata": {
    "colab": {
      "provenance": [],
      "authorship_tag": "ABX9TyMM9OrQt0CHzy/pkduUMtO3"
    },
    "kernelspec": {
      "name": "python3",
      "display_name": "Python 3"
    },
    "language_info": {
      "name": "python"
    }
  },
  "cells": [
    {
      "cell_type": "markdown",
      "source": [
        "## This notebook is a continuation of OOP-Matplotib 1, 2 and 3.\n",
        "\n",
        "This notebook focuses on histograms, barcharts and so on"
      ],
      "metadata": {
        "id": "FnTsiZA35HrA"
      }
    },
    {
      "cell_type": "code",
      "execution_count": 1,
      "metadata": {
        "colab": {
          "base_uri": "https://localhost:8080/"
        },
        "id": "31Q7cFGT49PI",
        "outputId": "529d290c-45cf-4afd-87fc-0541def126f3"
      },
      "outputs": [
        {
          "output_type": "stream",
          "name": "stdout",
          "text": [
            "  Preparing metadata (setup.py) ... \u001b[?25l\u001b[?25hdone\n",
            "  Building wheel for pyforest (setup.py) ... \u001b[?25l\u001b[?25hdone\n"
          ]
        }
      ],
      "source": [
        "# Using pyforest to import necessary libraries\n",
        "!pip install pyforest --quiet\n",
        "\n",
        "from pyforest import *"
      ]
    },
    {
      "cell_type": "code",
      "source": [],
      "metadata": {
        "id": "MbwB4ziy5ZAB"
      },
      "execution_count": null,
      "outputs": []
    }
  ]
}